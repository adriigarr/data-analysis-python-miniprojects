{
 "cells": [
  {
   "cell_type": "markdown",
   "metadata": {},
   "source": [
    "## Prediction using the Logistic Regression"
   ]
  },
  {
   "cell_type": "code",
   "execution_count": 1,
   "metadata": {},
   "outputs": [],
   "source": [
    "import pandas as pd "
   ]
  },
  {
   "cell_type": "code",
   "execution_count": 2,
   "metadata": {},
   "outputs": [],
   "source": [
    "laliga = pd.read_csv('merged_laliga_data.csv')"
   ]
  },
  {
   "cell_type": "code",
   "execution_count": 3,
   "metadata": {},
   "outputs": [
    {
     "name": "stdout",
     "output_type": "stream",
     "text": [
      "Accuracy: 1.00\n"
     ]
    }
   ],
   "source": [
    "from sklearn.model_selection import train_test_split\n",
    "from sklearn.ensemble import RandomForestClassifier\n",
    "from sklearn.preprocessing import LabelEncoder\n",
    "\n",
    "# Selecting relevant columns\n",
    "data = laliga[['HomeTeam', 'AwayTeam', 'FTHG', 'FTAG', 'FTR']]\n",
    "\n",
    "# Dropping rows with missing values\n",
    "data = data.dropna()\n",
    "\n",
    "# Encoding categorical columns\n",
    "label_encoder = LabelEncoder()\n",
    "data['HomeTeam'] = label_encoder.fit_transform(data['HomeTeam'])\n",
    "data['AwayTeam'] = label_encoder.fit_transform(data['AwayTeam'])\n",
    "data['FTR'] = label_encoder.fit_transform(data['FTR'])\n",
    "\n",
    "# Splitting data into features (X) and target (y)\n",
    "X = data[['HomeTeam', 'AwayTeam', 'FTHG', 'FTAG']]\n",
    "y = data['FTR']\n",
    "\n",
    "# Splitting into training and test set\n",
    "X_train, X_test, y_train, y_test = train_test_split(X, y, test_size=0.2, random_state=42)\n",
    "\n",
    "# Define the class weights based on the encoded class labels: 0 (H), 1 (D), 2 (A)\n",
    "class_weights = {0: 1, 1: 1.5, 2: 1.5}\n",
    "\n",
    "# Initialize Random Forest with the corrected class weights\n",
    "clf = RandomForestClassifier(n_estimators=100, random_state=42, class_weight=class_weights)\n",
    "\n",
    "# Train the classifier\n",
    "clf.fit(X_train, y_train)\n",
    "\n",
    "# Checking accuracy on the test set\n",
    "accuracy = clf.score(X_test, y_test)\n",
    "print(f\"Accuracy: {accuracy:.2f}\")\n"
   ]
  },
  {
   "cell_type": "code",
   "execution_count": 4,
   "metadata": {},
   "outputs": [
    {
     "name": "stdout",
     "output_type": "stream",
     "text": [
      "FTR\n",
      "H    1014\n",
      "A     635\n",
      "D     631\n",
      "Name: count, dtype: int64\n"
     ]
    }
   ],
   "source": [
    "# Check the distribution of match outcomes\n",
    "print(laliga['FTR'].value_counts())"
   ]
  },
  {
   "cell_type": "code",
   "execution_count": 5,
   "metadata": {},
   "outputs": [
    {
     "name": "stdout",
     "output_type": "stream",
     "text": [
      "['Betis' 'Girona' 'Barcelona' 'Celta' 'Villarreal' 'Eibar' 'Real Madrid'\n",
      " 'Vallecano' 'Ath Bilbao' 'Valencia' 'Getafe' 'Leganes' 'Alaves'\n",
      " 'Ath Madrid' 'Valladolid' 'Espanol' 'Sevilla' 'Levante' 'Huesca'\n",
      " 'Sociedad' 'Mallorca' 'Granada' 'Osasuna' 'Cadiz' 'Elche' 'Almeria'\n",
      " 'Las Palmas']\n"
     ]
    }
   ],
   "source": [
    "unique_teams = pd.concat([laliga['HomeTeam'], laliga['AwayTeam']]).unique()\n",
    "print(unique_teams)"
   ]
  },
  {
   "cell_type": "code",
   "execution_count": 6,
   "metadata": {},
   "outputs": [
    {
     "name": "stdout",
     "output_type": "stream",
     "text": [
      "Prediction for Leganes vs Valencia: Draw\n",
      "Prediction for Espanol vs Mallorca: Draw\n",
      "Prediction for Getafe vs Osasuna: Draw\n",
      "Prediction for Valladolid vs Vallecano: Draw\n",
      "Prediction for Las Palmas vs Celta: Draw\n",
      "Prediction for Real Madrid vs Villarreal: Draw\n",
      "Prediction for Girona vs Ath Bilbao: Draw\n",
      "Prediction for Alaves vs Barcelona: Draw\n",
      "Prediction for Sevilla vs Betis: Draw\n",
      "Prediction for Sociedad vs Ath Madrid: Draw\n"
     ]
    }
   ],
   "source": [
    "from sklearn.preprocessing import LabelEncoder\n",
    "\n",
    "# Create a new LabelEncoder for team names\n",
    "team_encoder = LabelEncoder()\n",
    "\n",
    "# Fit the LabelEncoder on the unique team names from both HomeTeam and AwayTeam columns in your original dataset\n",
    "all_teams = pd.concat([laliga['HomeTeam'], laliga['AwayTeam']]).unique()\n",
    "team_encoder.fit(all_teams)\n",
    "\n",
    "# Create a DataFrame with the upcoming matches, using '0' as placeholders for goals\n",
    "upcoming_matches = pd.DataFrame({\n",
    "    'HomeTeam': ['Leganes', 'Espanol', 'Getafe', 'Valladolid', 'Las Palmas', \n",
    "                 'Real Madrid', 'Girona', 'Alaves', 'Sevilla', 'Sociedad'],\n",
    "    'AwayTeam': ['Valencia', 'Mallorca', 'Osasuna', 'Vallecano', \n",
    "                 'Celta', 'Villarreal', 'Ath Bilbao', 'Barcelona', 'Betis', 'Ath Madrid'],\n",
    "    'FTHG': [0] * 10,  # Placeholder, future home goals are not known\n",
    "    'FTAG': [0] * 10   # Placeholder, future away goals are not known\n",
    "})\n",
    "\n",
    "# Encode the teams using the newly trained team_encoder\n",
    "upcoming_matches['HomeTeam'] = team_encoder.transform(upcoming_matches['HomeTeam'])\n",
    "upcoming_matches['AwayTeam'] = team_encoder.transform(upcoming_matches['AwayTeam'])\n",
    "\n",
    "# Now we include the goal placeholders as well\n",
    "X_upcoming = upcoming_matches[['HomeTeam', 'AwayTeam', 'FTHG', 'FTAG']]\n",
    "\n",
    "# Predict the outcomes using the trained model\n",
    "predictions = clf.predict(X_upcoming)\n",
    "\n",
    "# Map predictions back to readable results\n",
    "result_mapping = {0: 'Away Win', 1: 'Draw', 2: 'Home Win'}\n",
    "predicted_outcomes = [result_mapping[pred] for pred in predictions]\n",
    "\n",
    "# Display the predictions\n",
    "for i, match in upcoming_matches.iterrows():\n",
    "    home_team = team_encoder.inverse_transform([match['HomeTeam']])[0]\n",
    "    away_team = team_encoder.inverse_transform([match['AwayTeam']])[0]\n",
    "    print(f\"Prediction for {home_team} vs {away_team}: {predicted_outcomes[i]}\")"
   ]
  }
 ],
 "metadata": {
  "kernelspec": {
   "display_name": "analisisDatapythonProjects",
   "language": "python",
   "name": "python3"
  },
  "language_info": {
   "codemirror_mode": {
    "name": "ipython",
    "version": 3
   },
   "file_extension": ".py",
   "mimetype": "text/x-python",
   "name": "python",
   "nbconvert_exporter": "python",
   "pygments_lexer": "ipython3",
   "version": "3.10.7"
  }
 },
 "nbformat": 4,
 "nbformat_minor": 2
}
