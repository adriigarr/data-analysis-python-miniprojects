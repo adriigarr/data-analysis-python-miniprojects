{
 "cells": [
  {
   "cell_type": "code",
   "execution_count": 1,
   "metadata": {},
   "outputs": [],
   "source": [
    "import pandas as pd"
   ]
  },
  {
   "cell_type": "code",
   "execution_count": 4,
   "metadata": {},
   "outputs": [],
   "source": [
    "laliga1819 = pd.read_csv('data/LaLiga1819.csv')\n",
    "laliga1920 = pd.read_csv('data/LaLiga1920.csv')\n",
    "laliga2021 = pd.read_csv('data/LaLiga2021.csv')\n",
    "laliga2122 = pd.read_csv('data/LaLiga2122.csv')\n",
    "laliga2223 = pd.read_csv('data/LaLiga2223.csv')\n",
    "laliga2324 = pd.read_csv('data/LaLiga2324.csv')\n"
   ]
  },
  {
   "cell_type": "code",
   "execution_count": 6,
   "metadata": {},
   "outputs": [
    {
     "name": "stdout",
     "output_type": "stream",
     "text": [
      "Files merged and saved as 'merged_laliga_data.csv' successfully!\n"
     ]
    }
   ],
   "source": [
    "# List of all the DataFrames\n",
    "dataframes = [laliga1819, laliga1920, laliga2021, laliga2122, laliga2223, laliga2324]\n",
    "\n",
    "# Concatenate all the DataFrames into one\n",
    "merged_laliga = pd.concat(dataframes, ignore_index=True)\n",
    "\n",
    "# Save the merged DataFrame to a new CSV file\n",
    "merged_laliga.to_csv('merged_laliga_data.csv', index=False)\n",
    "\n",
    "print(\"Files merged and saved as 'merged_laliga_data.csv' successfully!\")\n"
   ]
  }
 ],
 "metadata": {
  "kernelspec": {
   "display_name": "analisisDatapythonProjects",
   "language": "python",
   "name": "python3"
  },
  "language_info": {
   "codemirror_mode": {
    "name": "ipython",
    "version": 3
   },
   "file_extension": ".py",
   "mimetype": "text/x-python",
   "name": "python",
   "nbconvert_exporter": "python",
   "pygments_lexer": "ipython3",
   "version": "3.10.9"
  }
 },
 "nbformat": 4,
 "nbformat_minor": 2
}
